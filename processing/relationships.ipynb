{
 "cells": [
  {
   "cell_type": "code",
   "execution_count": 2,
   "metadata": {
    "pycharm": {
     "name": "#%%\n"
    }
   },
   "outputs": [],
   "source": [
    "import fix_jupyter\n",
    "import networkx as nx\n",
    "from matplotlib import pyplot as plt\n",
    "from nlp.relationship_creator import get_network_df\n",
    "import pandas as pd"
   ]
  },
  {
   "cell_type": "code",
   "execution_count": 3,
   "metadata": {
    "pycharm": {
     "name": "#%%\n"
    }
   },
   "outputs": [],
   "source": [
    "from processing.node_plot import NodePlot\n",
    "\n",
    "npl = NodePlot()\n",
    "npl.plot()"
   ]
  },
  {
   "cell_type": "code",
   "execution_count": 4,
   "outputs": [
    {
     "data": {
      "text/plain": "{'Geralt': 0.7391304347826086,\n 'Velerad': 0.05434782608695652,\n 'Ostrit': 0.05434782608695652,\n 'Adda': 0.05434782608695652,\n 'Segelin': 0.043478260869565216,\n 'Foltest': 0.05434782608695652,\n 'Nenneke': 0.11956521739130435,\n 'Yennefer': 0.16304347826086957,\n 'Iola': 0.043478260869565216,\n 'Roach': 0.043478260869565216,\n 'Two': 0.08695652173913043,\n 'Rulle': 0.021739130434782608,\n 'Nivellen': 0.07608695652173914,\n 'Glutton': 0.03260869565217391,\n 'Fenne': 0.021739130434782608,\n 'Primula': 0.03260869565217391,\n 'Ilka': 0.021739130434782608,\n 'Venimira': 0.03260869565217391,\n 'Vereena': 0.043478260869565216,\n 'Falwick': 0.05434782608695652,\n 'Hereward': 0.021739130434782608,\n 'Ermellia': 0.021739130434782608,\n 'Dragomir': 0.021739130434782608,\n 'Trigla': 0.021739130434782608,\n 'Caldemeyn': 0.08695652173913043,\n 'Libushe': 0.06521739130434782,\n 'Karelka': 0.021739130434782608,\n 'Stregobor': 0.10869565217391304,\n 'Zavist': 0.021739130434782608,\n 'Eltibald': 0.021739130434782608,\n 'Fialka': 0.021739130434782608,\n 'Evermir': 0.021739130434782608,\n 'Abrad': 0.021739130434782608,\n 'Fredefalk': 0.03260869565217391,\n 'Renfri': 0.11956521739130435,\n 'Nimir': 0.021739130434782608,\n 'Nohorn': 0.06521739130434782,\n 'Tavik': 0.05434782608695652,\n 'Fifteen': 0.05434782608695652,\n 'Civril': 0.07608695652173914,\n 'Audoen': 0.07608695652173914,\n 'Marilka': 0.021739130434782608,\n 'Vesemir': 0.03260869565217391,\n 'Adam': 0.021739130434782608,\n 'Drogodar': 0.08695652173913043,\n 'Rainfarn': 0.13043478260869565,\n 'Baron': 0.021739130434782608,\n 'Calanthe': 0.05434782608695652,\n 'Pavetta': 0.11956521739130435,\n 'Eist': 0.07608695652173914,\n 'Draig': 0.06521739130434782,\n 'Tinglant': 0.021739130434782608,\n 'Fodcat': 0.043478260869565216,\n 'Wieldhill': 0.043478260869565216,\n 'Vissegerd': 0.06521739130434782,\n 'Crach': 0.05434782608695652,\n 'Cerro': 0.021739130434782608,\n 'Windhalm': 0.043478260869565216,\n 'Mousesack': 0.043478260869565216,\n 'Roegner': 0.06521739130434782,\n 'Zatret': 0.021739130434782608,\n 'Supree': 0.021739130434782608,\n 'Rumplestelt': 0.021739130434782608,\n 'Ravix': 0.021739130434782608,\n 'Adalia': 0.010869565217391304,\n 'Roderick': 0.021739130434782608,\n 'Millet': 0.010869565217391304,\n 'Nan': 0.010869565217391304,\n 'Dhun': 0.03260869565217391,\n 'Slow': 0.010869565217391304,\n 'Lille': 0.043478260869565216,\n 'Nettly': 0.010869565217391304,\n 'Torque': 0.06521739130434782,\n 'Galarr': 0.05434782608695652,\n 'Vanadain': 0.043478260869565216,\n 'Toruviel': 0.05434782608695652,\n 'Filavandrel': 0.05434782608695652,\n 'Til': 0.021739130434782608,\n 'Valdo': 0.03260869565217391,\n 'Virginia': 0.03260869565217391,\n 'Vratimir': 0.06521739130434782,\n 'Chireadan': 0.10869565217391304,\n 'Errdil': 0.07608695652173914,\n 'Beau': 0.043478260869565216,\n 'Cerberus': 0.03260869565217391,\n 'Triss': 0.021739130434782608,\n 'Laurelnose': 0.05434782608695652,\n 'Krepp': 0.07608695652173914,\n 'Neville': 0.06521739130434782,\n 'Geoffrey': 0.021739130434782608,\n 'Eskel': 0.021739130434782608,\n 'Count': 0.03260869565217391,\n 'Dennis': 0.043478260869565216}"
     },
     "execution_count": 4,
     "metadata": {},
     "output_type": "execute_result"
    }
   ],
   "source": [
    "npl.get_centrality()"
   ],
   "metadata": {
    "collapsed": false,
    "pycharm": {
     "name": "#%%\n"
    }
   }
  },
  {
   "cell_type": "code",
   "execution_count": null,
   "metadata": {
    "pycharm": {
     "name": "#%%\n"
    }
   },
   "outputs": [],
   "source": [
    "npl.net.show(\"witcher.html\")\n",
    "# from pyvis.network import Network\n",
    "#\n",
    "# net = Network(notebook=True, width=\"1000px\", height=\"700px\", bgcolor=\"#222222\", font_color=\"white\")\n",
    "# net.from_nx(npl.G)\n",
    "# net.show(\"witcherr.html\")"
   ]
  },
  {
   "cell_type": "code",
   "execution_count": null,
   "metadata": {
    "pycharm": {
     "name": "#%%\n"
    }
   },
   "outputs": [],
   "source": [
    "network_df = get_network_df()\n",
    "network_df = network_df.rename(columns={'occurrences': 'value'})"
   ]
  },
  {
   "cell_type": "code",
   "execution_count": null,
   "metadata": {
    "pycharm": {
     "name": "#%%\n"
    }
   },
   "outputs": [],
   "source": [
    "network_df"
   ]
  },
  {
   "cell_type": "code",
   "execution_count": null,
   "metadata": {
    "pycharm": {
     "name": "#%%\n"
    }
   },
   "outputs": [],
   "source": [
    "G = nx.from_pandas_edgelist(network_df, source=\"source\", target=\"target\", edge_attr=\"value\", create_using=nx.Graph())"
   ]
  },
  {
   "cell_type": "code",
   "execution_count": null,
   "metadata": {
    "jupyter": {
     "outputs_hidden": false
    },
    "pycharm": {
     "name": "#%%\n"
    }
   },
   "outputs": [],
   "source": [
    "G"
   ]
  },
  {
   "cell_type": "code",
   "execution_count": null,
   "metadata": {
    "jupyter": {
     "outputs_hidden": false
    },
    "pycharm": {
     "name": "#%%\n"
    }
   },
   "outputs": [],
   "source": [
    "fig = plt.figure(figsize=(15, 5))\n",
    "pos = nx.kamada_kawai_layout(G)\n",
    "nx.draw(G, with_labels=True, node_color='skyblue', edge_cmap=plt.cm.Blues, pos=pos)\n",
    "plt.show()"
   ]
  },
  {
   "cell_type": "code",
   "execution_count": null,
   "metadata": {
    "jupyter": {
     "outputs_hidden": false
    },
    "pycharm": {
     "name": "#%%\n"
    }
   },
   "outputs": [],
   "source": [
    "from pyvis.network import Network\n",
    "net = Network(notebook=True, width=\"1000px\", height=\"700px\", bgcolor=\"#222222\", font_color=\"white\")\n",
    "\n",
    "node_degree = dict(G.degree)\n",
    "nx.set_node_attributes(G, node_degree, 'size')\n",
    "\n",
    "net.from_nx(G)\n",
    "net.show(\"witcher.html\")"
   ]
  },
  {
   "cell_type": "code",
   "execution_count": null,
   "metadata": {
    "jupyter": {
     "outputs_hidden": false
    },
    "pycharm": {
     "name": "#%%\n"
    }
   },
   "outputs": [],
   "source": [
    "G[\"Geralt\"]"
   ]
  },
  {
   "cell_type": "code",
   "execution_count": null,
   "metadata": {},
   "outputs": [],
   "source": []
  }
 ],
 "metadata": {
  "kernelspec": {
   "display_name": "Python 3 (ipykernel)",
   "language": "python",
   "name": "python3"
  },
  "language_info": {
   "codemirror_mode": {
    "name": "ipython",
    "version": 3
   },
   "file_extension": ".py",
   "mimetype": "text/x-python",
   "name": "python",
   "nbconvert_exporter": "python",
   "pygments_lexer": "ipython3",
   "version": "3.9.12"
  }
 },
 "nbformat": 4,
 "nbformat_minor": 4
}