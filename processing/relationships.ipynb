{
 "cells": [
  {
   "cell_type": "code",
   "execution_count": 1,
   "metadata": {
    "pycharm": {
     "name": "#%%\n"
    }
   },
   "outputs": [],
   "source": [
    "from path_reference.folder_reference import get_data_path\n",
    "from webscrapping.witcher_scrapping import WitcherScrapper\n",
    "from data.df_cleanup import cleanup_df\n",
    "from pathlib import Path\n",
    "from selenium.webdriver.common.by import By\n",
    "import os\n",
    "import spacy\n",
    "from spacy import displacy\n",
    "from nlp.relationship_creator import RelationshipCreator\n",
    "import pandas as pd"
   ]
  },
  {
   "cell_type": "code",
   "execution_count": 2,
   "outputs": [],
   "source": [
    "rc = RelationshipCreator()\n",
    "window_df = rc.aggregate_network()"
   ],
   "metadata": {
    "collapsed": false,
    "pycharm": {
     "name": "#%%\n"
    }
   }
  },
  {
   "cell_type": "code",
   "execution_count": 3,
   "outputs": [
    {
     "data": {
      "text/plain": "     source   target  occurrences\n0    Geralt  Velerad           52\n1    Ostrit  Velerad           61\n2      Adda   Ostrit           35\n3      Adda  Segelin            3\n4    Ostrit  Segelin            4\n..      ...      ...          ...\n264   Count   Geralt          903\n265  Dennis   Geralt         6413\n266  Dennis  Falwick         1822\n267   Count   Dennis         3683\n268  Dennis  Nenneke          925\n\n[269 rows x 3 columns]",
      "text/html": "<div>\n<style scoped>\n    .dataframe tbody tr th:only-of-type {\n        vertical-align: middle;\n    }\n\n    .dataframe tbody tr th {\n        vertical-align: top;\n    }\n\n    .dataframe thead th {\n        text-align: right;\n    }\n</style>\n<table border=\"1\" class=\"dataframe\">\n  <thead>\n    <tr style=\"text-align: right;\">\n      <th></th>\n      <th>source</th>\n      <th>target</th>\n      <th>occurrences</th>\n    </tr>\n  </thead>\n  <tbody>\n    <tr>\n      <th>0</th>\n      <td>Geralt</td>\n      <td>Velerad</td>\n      <td>52</td>\n    </tr>\n    <tr>\n      <th>1</th>\n      <td>Ostrit</td>\n      <td>Velerad</td>\n      <td>61</td>\n    </tr>\n    <tr>\n      <th>2</th>\n      <td>Adda</td>\n      <td>Ostrit</td>\n      <td>35</td>\n    </tr>\n    <tr>\n      <th>3</th>\n      <td>Adda</td>\n      <td>Segelin</td>\n      <td>3</td>\n    </tr>\n    <tr>\n      <th>4</th>\n      <td>Ostrit</td>\n      <td>Segelin</td>\n      <td>4</td>\n    </tr>\n    <tr>\n      <th>...</th>\n      <td>...</td>\n      <td>...</td>\n      <td>...</td>\n    </tr>\n    <tr>\n      <th>264</th>\n      <td>Count</td>\n      <td>Geralt</td>\n      <td>903</td>\n    </tr>\n    <tr>\n      <th>265</th>\n      <td>Dennis</td>\n      <td>Geralt</td>\n      <td>6413</td>\n    </tr>\n    <tr>\n      <th>266</th>\n      <td>Dennis</td>\n      <td>Falwick</td>\n      <td>1822</td>\n    </tr>\n    <tr>\n      <th>267</th>\n      <td>Count</td>\n      <td>Dennis</td>\n      <td>3683</td>\n    </tr>\n    <tr>\n      <th>268</th>\n      <td>Dennis</td>\n      <td>Nenneke</td>\n      <td>925</td>\n    </tr>\n  </tbody>\n</table>\n<p>269 rows × 3 columns</p>\n</div>"
     },
     "execution_count": 3,
     "metadata": {},
     "output_type": "execute_result"
    }
   ],
   "source": [
    "window_df"
   ],
   "metadata": {
    "collapsed": false,
    "pycharm": {
     "name": "#%%\n"
    }
   }
  },
  {
   "cell_type": "code",
   "execution_count": 4,
   "outputs": [
    {
     "data": {
      "text/plain": "array([['Geralt', 'Velerad'],\n       ['Ostrit', 'Velerad'],\n       ['Adda', 'Ostrit'],\n       ...,\n       ['Geralt', 'Nenneke'],\n       ['Iola', 'Nenneke'],\n       ['Iola', 'Nenneke']], dtype=object)"
     },
     "execution_count": 4,
     "metadata": {},
     "output_type": "execute_result"
    }
   ],
   "source": [
    "import numpy as np\n",
    "np.sort(window_df.values, axis=1)"
   ],
   "metadata": {
    "collapsed": false,
    "pycharm": {
     "name": "#%%\n"
    }
   }
  },
  {
   "cell_type": "code",
   "execution_count": 31,
   "outputs": [
    {
     "name": "stdout",
     "output_type": "stream",
     "text": [
      "[]\n",
      "[]\n",
      "[]\n",
      "[]\n",
      "[]\n",
      "[]\n",
      "[]\n",
      "['Geralt', 'Fenne']\n",
      "['Geralt', 'Fenne']\n",
      "['Fenne', 'Geralt']\n",
      "['Fenne', 'Geralt', 'Geralt', 'Fenne']\n",
      "['Fenne', 'Geralt', 'Geralt', 'Fenne']\n",
      "['Fenne', 'Geralt', 'Geralt', 'Fenne']\n",
      "['Geralt', 'Fenne', 'Fenne', 'Nivellen']\n",
      "['Geralt', 'Fenne', 'Fenne', 'Nivellen', 'Nivellen', 'Primula']\n",
      "['Fenne', 'Nivellen', 'Nivellen', 'Primula', 'Primula', 'Geralt']\n",
      "['Fenne', 'Nivellen', 'Nivellen', 'Primula', 'Primula', 'Geralt', 'Geralt', 'Primula']\n",
      "['Fenne', 'Nivellen', 'Nivellen', 'Primula', 'Primula', 'Geralt', 'Geralt', 'Primula', 'Primula', 'Geralt']\n",
      "['Nivellen', 'Primula', 'Primula', 'Geralt', 'Geralt', 'Primula', 'Primula', 'Geralt']\n",
      "['Primula', 'Geralt', 'Geralt', 'Primula', 'Primula', 'Geralt', 'Geralt', 'Nivellen']\n",
      "['Geralt', 'Primula', 'Primula', 'Geralt', 'Geralt', 'Nivellen', 'Nivellen', 'Geralt']\n",
      "['Primula', 'Geralt', 'Geralt', 'Nivellen', 'Nivellen', 'Geralt', 'Geralt', 'two', 'two', 'Primula', 'Primula', 'Ilka', 'Ilka', 'Venimira']\n",
      "['Geralt', 'Nivellen', 'Nivellen', 'Geralt', 'Geralt', 'two', 'two', 'Primula', 'Primula', 'Ilka', 'Ilka', 'Venimira']\n",
      "['Geralt', 'Nivellen', 'Nivellen', 'Geralt', 'Geralt', 'two', 'two', 'Primula', 'Primula', 'Ilka', 'Ilka', 'Venimira', 'Venimira', 'Nivellen']\n",
      "['Nivellen', 'Geralt', 'Geralt', 'two', 'two', 'Primula', 'Primula', 'Ilka', 'Ilka', 'Venimira', 'Venimira', 'Nivellen']\n",
      "['Geralt', 'two', 'two', 'Primula', 'Primula', 'Ilka', 'Ilka', 'Venimira', 'Venimira', 'Nivellen']\n",
      "['two', 'Primula', 'Primula', 'Ilka', 'Ilka', 'Venimira', 'Venimira', 'Nivellen', 'Nivellen', 'Venimira']\n",
      "['Nivellen', 'Venimira', 'Venimira', 'Geralt']\n",
      "['Nivellen', 'Venimira', 'Venimira', 'Geralt']\n",
      "['Venimira', 'Geralt', 'Geralt', 'Nivellen']\n",
      "['Venimira', 'Geralt', 'Geralt', 'Nivellen', 'Nivellen', 'Primula']\n",
      "['Venimira', 'Geralt', 'Geralt', 'Nivellen', 'Nivellen', 'Primula']\n",
      "['Geralt', 'Nivellen', 'Nivellen', 'Primula', 'Primula', 'Geralt']\n",
      "['Geralt', 'Nivellen', 'Nivellen', 'Primula', 'Primula', 'Geralt']\n",
      "['Nivellen', 'Primula', 'Primula', 'Geralt']\n",
      "['Primula', 'Geralt', 'Geralt', 'Nivellen']\n",
      "['Geralt', 'Nivellen']\n",
      "['Geralt', 'Nivellen']\n",
      "['Geralt', 'Nivellen']\n",
      "['Geralt', 'Nivellen']\n",
      "[]\n",
      "[]\n",
      "['Geralt', 'Nivellen']\n",
      "['Geralt', 'Nivellen', 'Nivellen', 'Glutton']\n",
      "['Geralt', 'Nivellen', 'Nivellen', 'Glutton', 'Glutton', 'Vereena']\n",
      "['Geralt', 'Nivellen', 'Nivellen', 'Glutton', 'Glutton', 'Vereena', 'Vereena', 'Nivellen']\n",
      "['Geralt', 'Nivellen', 'Nivellen', 'Glutton', 'Glutton', 'Vereena', 'Vereena', 'Nivellen', 'Nivellen', 'Geralt']\n",
      "['Geralt', 'Nivellen', 'Nivellen', 'Glutton', 'Glutton', 'Vereena', 'Vereena', 'Nivellen', 'Nivellen', 'Geralt', 'Geralt', 'Vereena']\n",
      "['Glutton', 'Vereena', 'Vereena', 'Nivellen', 'Nivellen', 'Geralt', 'Geralt', 'Vereena']\n",
      "['Vereena', 'Nivellen', 'Nivellen', 'Geralt', 'Geralt', 'Vereena', 'Vereena', 'Roach']\n",
      "['Nivellen', 'Geralt', 'Geralt', 'Vereena', 'Vereena', 'Roach', 'Roach', 'Vereena']\n",
      "['Geralt', 'Vereena', 'Vereena', 'Roach', 'Roach', 'Vereena', 'Vereena', 'Nivellen']\n",
      "['Vereena', 'Roach', 'Roach', 'Vereena', 'Vereena', 'Nivellen']\n",
      "['Roach', 'Vereena', 'Vereena', 'Nivellen']\n",
      "['Roach', 'Vereena', 'Vereena', 'Nivellen']\n",
      "['Vereena', 'Nivellen']\n",
      "['Nivellen', 'Geralt']\n",
      "[]\n",
      "[]\n",
      "[]\n",
      "['Geralt', 'Roach']\n",
      "['Geralt', 'Roach']\n",
      "['Geralt', 'Roach']\n",
      "['Roach', 'Nivellen']\n",
      "['Roach', 'Nivellen']\n",
      "['Roach', 'Nivellen']\n",
      "['Roach', 'Nivellen']\n",
      "['Nivellen', 'Geralt']\n",
      "['Nivellen', 'Geralt']\n",
      "[]\n",
      "[]\n",
      "['Geralt', 'two']\n",
      "['Geralt', 'two']\n",
      "['Geralt', 'two']\n",
      "['Geralt', 'two', 'two', 'Nivellen']\n",
      "['two', 'Nivellen', 'Nivellen', 'Vereena']\n",
      "['two', 'Nivellen', 'Nivellen', 'Vereena', 'Vereena', 'Nivellen']\n",
      "['two', 'Nivellen', 'Nivellen', 'Vereena', 'Vereena', 'Nivellen', 'Nivellen', 'Vereena']\n",
      "['Nivellen', 'Vereena', 'Vereena', 'Nivellen', 'Nivellen', 'Vereena', 'Vereena', 'Nivellen']\n",
      "['Nivellen', 'Vereena', 'Vereena', 'Nivellen', 'Nivellen', 'Vereena', 'Vereena', 'Nivellen']\n",
      "['Vereena', 'Nivellen', 'Nivellen', 'Vereena', 'Vereena', 'Nivellen']\n",
      "['Nivellen', 'Vereena', 'Vereena', 'Nivellen']\n",
      "['Vereena', 'Nivellen']\n",
      "[]\n",
      "[]\n",
      "[]\n",
      "[]\n",
      "[]\n",
      "['Nivellen', 'Geralt', 'Geralt', 'Nivellen']\n",
      "['Nivellen', 'Geralt', 'Geralt', 'Nivellen']\n",
      "['Geralt', 'Nivellen', 'Nivellen', 'Geralt']\n",
      "['Geralt', 'Nivellen', 'Nivellen', 'Geralt']\n",
      "['Geralt', 'Nivellen', 'Nivellen', 'Geralt']\n",
      "['Geralt', 'Nivellen', 'Nivellen', 'Geralt']\n",
      "[]\n",
      "['Geralt', 'Falwick']\n",
      "['Geralt', 'Falwick']\n",
      "['Geralt', 'Falwick']\n",
      "['Geralt', 'Falwick']\n"
     ]
    }
   ],
   "source": [
    "windows_size = 5\n",
    "maximum_df_index = len(entity_df)\n",
    "\n",
    "for i in range(entity_df.index[-1]):\n",
    "    window_end = min(i+5, maximum_df_index)\n",
    "    window = entity_df.loc[i:i+5]\n",
    "    window_characters = sum(window.character_entities, [])\n",
    "    maximum_size = len(window_characters)-1\n",
    "    unique_characters = []\n",
    "\n",
    "    for index, item in enumerate(window_characters):\n",
    "        current_item = item\n",
    "        next_item = window_characters[min(index+1, maximum_size)]\n",
    "        if current_item != next_item:\n",
    "            unique_characters.extend((current_item, next_item))\n",
    "    if 200 < i < 300:\n",
    "        print(unique_characters)"
   ],
   "metadata": {
    "collapsed": false,
    "pycharm": {
     "name": "#%%\n"
    }
   }
  },
  {
   "cell_type": "code",
   "execution_count": 2,
   "outputs": [],
   "source": [
    "characters = pd.read_csv(Path(get_data_path(), \"characters.csv\"))\n",
    "#cleanup_df(characters)"
   ],
   "metadata": {
    "collapsed": false,
    "pycharm": {
     "name": "#%%\n"
    }
   }
  },
  {
   "cell_type": "code",
   "execution_count": 12,
   "outputs": [
    {
     "data": {
      "text/plain": "                  book  character character_first_name\n1255  Time of Contempt  Two Tusks                  Two",
      "text/html": "<div>\n<style scoped>\n    .dataframe tbody tr th:only-of-type {\n        vertical-align: middle;\n    }\n\n    .dataframe tbody tr th {\n        vertical-align: top;\n    }\n\n    .dataframe thead th {\n        text-align: right;\n    }\n</style>\n<table border=\"1\" class=\"dataframe\">\n  <thead>\n    <tr style=\"text-align: right;\">\n      <th></th>\n      <th>book</th>\n      <th>character</th>\n      <th>character_first_name</th>\n    </tr>\n  </thead>\n  <tbody>\n    <tr>\n      <th>1255</th>\n      <td>Time of Contempt</td>\n      <td>Two Tusks</td>\n      <td>Two</td>\n    </tr>\n  </tbody>\n</table>\n</div>"
     },
     "execution_count": 12,
     "metadata": {},
     "output_type": "execute_result"
    }
   ],
   "source": [
    "#first_names = [x.lower() for x in characters[\"character_first_name\"].tolist()]\n",
    "characters[characters[\"character_first_name\"].str.lower() == \"two\"]"
   ],
   "metadata": {
    "collapsed": false,
    "pycharm": {
     "name": "#%%\n"
    }
   }
  },
  {
   "cell_type": "code",
   "execution_count": 11,
   "outputs": [
    {
     "data": {
      "text/plain": "'Geralt'"
     },
     "execution_count": 11,
     "metadata": {},
     "output_type": "execute_result"
    }
   ],
   "source": [
    "sp1 = \"['Geralt']\"\n",
    "forbidden_characters = [\"[\", \"'\", \"]\"]\n",
    "for c in forbidden_characters:\n",
    "    sp1 = sp1.replace(c, \"\")\n",
    "sp1"
   ],
   "metadata": {
    "collapsed": false,
    "pycharm": {
     "name": "#%%\n"
    }
   }
  },
  {
   "cell_type": "code",
   "execution_count": 9,
   "outputs": [
    {
     "data": {
      "text/plain": "['geralt', 'yennefer']"
     },
     "execution_count": 9,
     "metadata": {},
     "output_type": "execute_result"
    }
   ],
   "source": [
    "sp1 = \"geralt, yennefer\"\n",
    "sp1.split(\", \")"
   ],
   "metadata": {
    "collapsed": false,
    "pycharm": {
     "name": "#%%\n"
    }
   }
  },
  {
   "cell_type": "code",
   "execution_count": 23,
   "outputs": [],
   "source": [
    "def filter_entity_df(entity_list: list[str], characters_df: pd.DataFrame):\n",
    "    first_names = [x.lower() for x in characters_df[\"character_first_name\"].tolist()]\n",
    "    full_names = [x.lower() for x in characters_df[\"character\"].tolist()]\n",
    "    return [entity for entity in entity_list\n",
    "            if entity.lower() in first_names\n",
    "            or entity.lower() in full_names]\n",
    "\n",
    "sent_entity_df[\"character_entities\"] = sent_entity_df[\"entities\"].apply(\n",
    "            lambda x: filter_entity_df(x, characters))"
   ],
   "metadata": {
    "collapsed": false,
    "pycharm": {
     "name": "#%%\n"
    }
   }
  },
  {
   "cell_type": "code",
   "execution_count": 25,
   "outputs": [
    {
     "data": {
      "text/plain": "                                               sentence  \\\n0     (\\n\\n, ', Come, on, ,, Geralt, ,, it, 'll, be,...   \n1     (Damned, mother's-, !, ', \\n\\n, ', Careful, ,,...   \n2     (', Say, what, you, want, about, the, striga, ...   \n3     (Segelin, and, Ostrit, looked, at, each, other...   \n4     (', At, the, very, beginning, ,, seven, years,...   \n...                                                 ...   \n1868  (Nenneke, raised, herself, to, her, knees, and...   \n1870                       (She, turned, to, Geralt, .)   \n1871  (Iola-, ', \\n\\n, ', Do, n't, say, anything, ,,...   \n1873                                 (See, to, Iola, .)   \n1874                       (So, long, ,, Nenneke, ., ')   \n\n                    entities character_entities  \n0                   [Geralt]           [Geralt]  \n1          [Velerad, Ostrit]  [Velerad, Ostrit]  \n2                     [Adda]             [Adda]  \n3          [Segelin, Ostrit]  [Segelin, Ostrit]  \n4     [seven years ago, two]              [two]  \n...                      ...                ...  \n1868               [Nenneke]          [Nenneke]  \n1870                [Geralt]           [Geralt]  \n1871               [Nenneke]          [Nenneke]  \n1873                  [Iola]             [Iola]  \n1874               [Nenneke]          [Nenneke]  \n\n[1086 rows x 3 columns]",
      "text/html": "<div>\n<style scoped>\n    .dataframe tbody tr th:only-of-type {\n        vertical-align: middle;\n    }\n\n    .dataframe tbody tr th {\n        vertical-align: top;\n    }\n\n    .dataframe thead th {\n        text-align: right;\n    }\n</style>\n<table border=\"1\" class=\"dataframe\">\n  <thead>\n    <tr style=\"text-align: right;\">\n      <th></th>\n      <th>sentence</th>\n      <th>entities</th>\n      <th>character_entities</th>\n    </tr>\n  </thead>\n  <tbody>\n    <tr>\n      <th>0</th>\n      <td>(\\n\\n, ', Come, on, ,, Geralt, ,, it, 'll, be,...</td>\n      <td>[Geralt]</td>\n      <td>[Geralt]</td>\n    </tr>\n    <tr>\n      <th>1</th>\n      <td>(Damned, mother's-, !, ', \\n\\n, ', Careful, ,,...</td>\n      <td>[Velerad, Ostrit]</td>\n      <td>[Velerad, Ostrit]</td>\n    </tr>\n    <tr>\n      <th>2</th>\n      <td>(', Say, what, you, want, about, the, striga, ...</td>\n      <td>[Adda]</td>\n      <td>[Adda]</td>\n    </tr>\n    <tr>\n      <th>3</th>\n      <td>(Segelin, and, Ostrit, looked, at, each, other...</td>\n      <td>[Segelin, Ostrit]</td>\n      <td>[Segelin, Ostrit]</td>\n    </tr>\n    <tr>\n      <th>4</th>\n      <td>(', At, the, very, beginning, ,, seven, years,...</td>\n      <td>[seven years ago, two]</td>\n      <td>[two]</td>\n    </tr>\n    <tr>\n      <th>...</th>\n      <td>...</td>\n      <td>...</td>\n      <td>...</td>\n    </tr>\n    <tr>\n      <th>1868</th>\n      <td>(Nenneke, raised, herself, to, her, knees, and...</td>\n      <td>[Nenneke]</td>\n      <td>[Nenneke]</td>\n    </tr>\n    <tr>\n      <th>1870</th>\n      <td>(She, turned, to, Geralt, .)</td>\n      <td>[Geralt]</td>\n      <td>[Geralt]</td>\n    </tr>\n    <tr>\n      <th>1871</th>\n      <td>(Iola-, ', \\n\\n, ', Do, n't, say, anything, ,,...</td>\n      <td>[Nenneke]</td>\n      <td>[Nenneke]</td>\n    </tr>\n    <tr>\n      <th>1873</th>\n      <td>(See, to, Iola, .)</td>\n      <td>[Iola]</td>\n      <td>[Iola]</td>\n    </tr>\n    <tr>\n      <th>1874</th>\n      <td>(So, long, ,, Nenneke, ., ')</td>\n      <td>[Nenneke]</td>\n      <td>[Nenneke]</td>\n    </tr>\n  </tbody>\n</table>\n<p>1086 rows × 3 columns</p>\n</div>"
     },
     "execution_count": 25,
     "metadata": {},
     "output_type": "execute_result"
    }
   ],
   "source": [
    "# Filter sent_entity_df where character_entities values are null\n",
    "sent_entity_df = sent_entity_df[sent_entity_df[\"character_entities\"].map(len) > 0]\n",
    "sent_entity_df"
   ],
   "metadata": {
    "collapsed": false,
    "pycharm": {
     "name": "#%%\n"
    }
   }
  },
  {
   "cell_type": "code",
   "execution_count": 36,
   "outputs": [
    {
     "data": {
      "text/plain": "['Geralt']"
     },
     "execution_count": 36,
     "metadata": {},
     "output_type": "execute_result"
    }
   ],
   "source": [
    "x = [\"Geralt of Rivia\"]\n",
    "[item.split()[0] for item in x]"
   ],
   "metadata": {
    "collapsed": false,
    "pycharm": {
     "name": "#%%\n"
    }
   }
  },
  {
   "cell_type": "code",
   "execution_count": 15,
   "outputs": [
    {
     "data": {
      "text/plain": "                  book               character character_first_name\n0      Baptism of Fire                  Adalia               Adalia\n1      Baptism of Fire                   Adela                Adela\n2      Baptism of Fire           Aen Saevherne                  Aen\n3      Baptism of Fire                Aevenien             Aevenien\n4      Baptism of Fire                  Aglaïs               Aglaïs\n...                ...                     ...                  ...\n1270  Time of Contempt        Yanna of Murivel                Yanna\n1271  Time of Contempt           Yarpen Zigrin               Yarpen\n1272  Time of Contempt  Yennefer of Vengerberg             Yennefer\n1273  Time of Contempt         Yiolenta Suarez             Yiolenta\n1274  Time of Contempt                   Zyvik                Zyvik\n\n[1275 rows x 3 columns]",
      "text/html": "<div>\n<style scoped>\n    .dataframe tbody tr th:only-of-type {\n        vertical-align: middle;\n    }\n\n    .dataframe tbody tr th {\n        vertical-align: top;\n    }\n\n    .dataframe thead th {\n        text-align: right;\n    }\n</style>\n<table border=\"1\" class=\"dataframe\">\n  <thead>\n    <tr style=\"text-align: right;\">\n      <th></th>\n      <th>book</th>\n      <th>character</th>\n      <th>character_first_name</th>\n    </tr>\n  </thead>\n  <tbody>\n    <tr>\n      <th>0</th>\n      <td>Baptism of Fire</td>\n      <td>Adalia</td>\n      <td>Adalia</td>\n    </tr>\n    <tr>\n      <th>1</th>\n      <td>Baptism of Fire</td>\n      <td>Adela</td>\n      <td>Adela</td>\n    </tr>\n    <tr>\n      <th>2</th>\n      <td>Baptism of Fire</td>\n      <td>Aen Saevherne</td>\n      <td>Aen</td>\n    </tr>\n    <tr>\n      <th>3</th>\n      <td>Baptism of Fire</td>\n      <td>Aevenien</td>\n      <td>Aevenien</td>\n    </tr>\n    <tr>\n      <th>4</th>\n      <td>Baptism of Fire</td>\n      <td>Aglaïs</td>\n      <td>Aglaïs</td>\n    </tr>\n    <tr>\n      <th>...</th>\n      <td>...</td>\n      <td>...</td>\n      <td>...</td>\n    </tr>\n    <tr>\n      <th>1270</th>\n      <td>Time of Contempt</td>\n      <td>Yanna of Murivel</td>\n      <td>Yanna</td>\n    </tr>\n    <tr>\n      <th>1271</th>\n      <td>Time of Contempt</td>\n      <td>Yarpen Zigrin</td>\n      <td>Yarpen</td>\n    </tr>\n    <tr>\n      <th>1272</th>\n      <td>Time of Contempt</td>\n      <td>Yennefer of Vengerberg</td>\n      <td>Yennefer</td>\n    </tr>\n    <tr>\n      <th>1273</th>\n      <td>Time of Contempt</td>\n      <td>Yiolenta Suarez</td>\n      <td>Yiolenta</td>\n    </tr>\n    <tr>\n      <th>1274</th>\n      <td>Time of Contempt</td>\n      <td>Zyvik</td>\n      <td>Zyvik</td>\n    </tr>\n  </tbody>\n</table>\n<p>1275 rows × 3 columns</p>\n</div>"
     },
     "execution_count": 15,
     "metadata": {},
     "output_type": "execute_result"
    }
   ],
   "source": [
    "characters"
   ],
   "metadata": {
    "collapsed": false,
    "pycharm": {
     "name": "#%%\n"
    }
   }
  },
  {
   "cell_type": "code",
   "execution_count": null,
   "outputs": [],
   "source": [],
   "metadata": {
    "collapsed": false,
    "pycharm": {
     "name": "#%%\n"
    }
   }
  }
 ],
 "metadata": {
  "kernelspec": {
   "display_name": "Python 3 (ipykernel)",
   "language": "python",
   "name": "python3"
  },
  "language_info": {
   "codemirror_mode": {
    "name": "ipython",
    "version": 3
   },
   "file_extension": ".py",
   "mimetype": "text/x-python",
   "name": "python",
   "nbconvert_exporter": "python",
   "pygments_lexer": "ipython3",
   "version": "3.9.12"
  }
 },
 "nbformat": 4,
 "nbformat_minor": 1
}