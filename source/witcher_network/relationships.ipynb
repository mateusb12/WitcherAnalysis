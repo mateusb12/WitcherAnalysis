{
 "cells": [
  {
   "cell_type": "code",
   "execution_count": 1,
   "metadata": {
    "pycharm": {
     "name": "#%%\n"
    }
   },
   "source": [
    "from jupyter_notebooks import fix_jupyter\n",
    "import networkx as nx\n",
    "from matplotlib import pyplot as plt\n",
    "from book_processing.relationship_creator import get_network_df\n",
    "from wrap.wrapper import Wrapper\n",
    "import pandas as pd"
   ],
   "outputs": []
  },
  {
   "cell_type": "code",
   "execution_count": 8,
   "metadata": {
    "pycharm": {
     "name": "#%%\n"
    }
   },
   "source": [
    "w = Wrapper()\n",
    "book_pot = []\n",
    "for i in range(1, 4):\n",
    "    w.load_book(i)\n",
    "    w.process_entities()\n",
    "    book_pot.append(w.get_centrality())"
   ],
   "outputs": []
  },
  {
   "cell_type": "code",
   "execution_count": 9,
   "source": [
    "book_pot"
   ],
   "metadata": {
    "collapsed": false,
    "pycharm": {
     "name": "#%%\n"
    }
   },
   "outputs": []
  },
  {
   "cell_type": "code",
   "execution_count": 13,
   "source": [
    "pot1 = pd.DataFrame.from_records(book_pot)\n",
    "pot1.index += 1\n",
    "pot1 = pot1[[\"Geralt\", \"Ciri\", \"Yennefer\", \"Dandelion\", \"Vesemir\"]]"
   ],
   "metadata": {
    "collapsed": false,
    "pycharm": {
     "name": "#%%\n"
    }
   },
   "outputs": []
  },
  {
   "cell_type": "code",
   "execution_count": 38,
   "source": [
    "plt.figure(figsize=(15, 8))\n",
    "plt.gca().yaxis.set_major_formatter(plt.FuncFormatter(lambda x, p: format(int(x * 100), ',')))\n",
    "plt.xticks(range(1, len(pot1.index) + 1))\n",
    "plt.rcParams.update({'font.size': 13})\n",
    "plt.title(\"Importance over time\")\n",
    "plt.xlabel(\"Book index\")\n",
    "plt.ylabel(\"Importance (%)\")\n",
    "plt.rcParams['lines.linewidth'] = 2\n",
    "plt.grid(which='major', color='#666666', linewidth=.4)\n",
    "plt.plot(pot1, linestyle='-', marker='o', markersize=9)\n",
    "plt.legend(pot1.columns)\n",
    "#pot1[[\"Geralt\", \"Ciri\", \"Yennefer\", \"Dandelion\", \"Vesemir\"]].plot(figsize=(15, 8))"
   ],
   "metadata": {
    "collapsed": false,
    "pycharm": {
     "name": "#%%\n"
    }
   },
   "outputs": []
  },
  {
   "cell_type": "code",
   "execution_count": 32,
   "metadata": {
    "pycharm": {
     "name": "#%%\n"
    }
   },
   "source": [
    "pot1.columns"
   ],
   "outputs": []
  },
  {
   "cell_type": "code",
   "execution_count": null,
   "metadata": {
    "pycharm": {
     "name": "#%%\n"
    }
   },
   "source": [
    "network_df = get_network_df()\n",
    "network_df = network_df.rename(columns={'occurrences': 'value'})"
   ],
   "outputs": []
  },
  {
   "cell_type": "code",
   "execution_count": null,
   "metadata": {
    "pycharm": {
     "name": "#%%\n"
    }
   },
   "source": [
    "network_df"
   ],
   "outputs": []
  },
  {
   "cell_type": "code",
   "execution_count": null,
   "metadata": {
    "pycharm": {
     "name": "#%%\n"
    }
   },
   "source": [
    "G = nx.from_pandas_edgelist(network_df, source=\"source\", target=\"target\", edge_attr=\"value\", create_using=nx.Graph())"
   ],
   "outputs": []
  },
  {
   "cell_type": "code",
   "execution_count": null,
   "metadata": {
    "jupyter": {
     "outputs_hidden": false
    },
    "pycharm": {
     "name": "#%%\n"
    }
   },
   "source": [
    "G"
   ],
   "outputs": []
  },
  {
   "cell_type": "code",
   "execution_count": null,
   "metadata": {
    "jupyter": {
     "outputs_hidden": false
    },
    "pycharm": {
     "name": "#%%\n"
    }
   },
   "source": [
    "fig = plt.figure(figsize=(15, 5))\n",
    "pos = nx.kamada_kawai_layout(G)\n",
    "nx.draw(G, with_labels=True, node_color='skyblue', edge_cmap=plt.cm.Blues, pos=pos)\n",
    "plt.show()"
   ],
   "outputs": []
  },
  {
   "cell_type": "code",
   "execution_count": null,
   "metadata": {
    "jupyter": {
     "outputs_hidden": false
    },
    "pycharm": {
     "name": "#%%\n"
    }
   },
   "source": [
    "from pyvis.network import Network\n",
    "net = Network(notebook=True, width=\"1000px\", height=\"700px\", bgcolor=\"#222222\", font_color=\"white\")\n",
    "\n",
    "node_degree = dict(G.degree)\n",
    "nx.set_node_attributes(G, node_degree, 'size')\n",
    "\n",
    "net.from_nx(G)\n",
    "net.show(\"witcher.html\")"
   ],
   "outputs": []
  },
  {
   "cell_type": "code",
   "execution_count": null,
   "metadata": {
    "jupyter": {
     "outputs_hidden": false
    },
    "pycharm": {
     "name": "#%%\n"
    }
   },
   "source": [
    "G[\"Geralt\"]"
   ],
   "outputs": []
  },
  {
   "cell_type": "code",
   "execution_count": null,
   "metadata": {
    "pycharm": {
     "name": "#%%\n"
    }
   },
   "source": [],
   "outputs": []
  }
 ],
 "metadata": {
  "kernelspec": {
   "display_name": "Python 3 (ipykernel)",
   "language": "python",
   "name": "python3"
  },
  "language_info": {
   "codemirror_mode": {
    "name": "ipython",
    "version": 3
   },
   "file_extension": ".py",
   "mimetype": "text/x-python",
   "name": "python",
   "nbconvert_exporter": "python",
   "pygments_lexer": "ipython3",
   "version": "3.9.12"
  }
 },
 "nbformat": 4,
 "nbformat_minor": 4
}
