{
 "cells": [
  {
   "cell_type": "code",
   "execution_count": 1,
   "id": "initial_id",
   "metadata": {
    "collapsed": true,
    "ExecuteTime": {
     "end_time": "2023-10-04T23:10:34.584790Z",
     "start_time": "2023-10-04T23:10:27.441992500Z"
    }
   },
   "source": [
    "from webscrapping.reddit_scrapping import RedditScrapper\n",
    "from selenium.webdriver.common.by import By\n",
    "from webscrapping.web_element_searcher import WebElementSearcher\n",
    "import pyperclip\n",
    "import time\n",
    "\n",
    "rs = RedditScrapper()"
   ],
   "outputs": []
  },
  {
   "cell_type": "code",
   "execution_count": 2,
   "source": [
    "rs.run()"
   ],
   "metadata": {
    "collapsed": false,
    "ExecuteTime": {
     "end_time": "2023-10-04T23:10:51.386897900Z",
     "start_time": "2023-10-04T23:10:35.328271400Z"
    }
   },
   "id": "ca848f8a1491acc8",
   "outputs": []
  },
  {
   "cell_type": "code",
   "execution_count": 3,
   "source": [
    "main_list_xpath = \"/html/body/div[1]/div/div[2]/div[2]/div/div/div/div[2]/div[3]/div[1]/div[2]/div[1]\"\n",
    "main_list = rs.driver.find_element(By.XPATH, main_list_xpath)\n",
    "main_list = main_list.find_elements(By.XPATH, \".//*\")\n",
    "\n",
    "links = []"
   ],
   "metadata": {
    "collapsed": false,
    "ExecuteTime": {
     "end_time": "2023-10-04T23:17:17.904505500Z",
     "start_time": "2023-10-04T23:17:17.780511100Z"
    }
   },
   "id": "43b7e243a9212905",
   "outputs": []
  },
  {
   "cell_type": "code",
   "execution_count": 19,
   "source": [
    "big_list = rs.driver.find_elements(By.XPATH, \".//button[@data-click-id='share']\")\n",
    "first_button = big_list[0]\n",
    "first_button.click()\n",
    "\n",
    "rs.driver.implicitly_wait(2)\n",
    "copy_link_potential_elements = rs.driver.find_elements(By.XPATH, \"//span[contains(text(), 'Copy link')]\")\n",
    "copy_link_element = copy_link_potential_elements[0]\n",
    "\n",
    "copy_link_button = copy_link_element.find_element(By.XPATH, '..')\n",
    "copy_link_button.click()\n",
    "# \n",
    "# time.sleep(1)\n",
    "# links.append(pyperclip.paste())\n",
    "\n",
    "# div_xpath = \"/html/body/div[22]\"\n",
    "# div = rs.driver.find_element(By.XPATH, div_xpath)\n",
    "# sub_buttons_xpath = \".//button\"\n",
    "# div_buttons = div.find_elements(By.XPATH, sub_buttons_xpath)\n",
    "# div_buttons[0].click()"
   ],
   "metadata": {
    "collapsed": false,
    "ExecuteTime": {
     "end_time": "2023-10-04T23:34:07.571451Z",
     "start_time": "2023-10-04T23:34:05.140451100Z"
    }
   },
   "id": "48bcd928b00ad5c8",
   "outputs": []
  },
  {
   "cell_type": "code",
   "execution_count": 17,
   "source": [
    "copy_link_button = copy_link_element.find_element(By.XPATH, '../..')\n",
    "copy_link_button.click()"
   ],
   "metadata": {
    "collapsed": false,
    "ExecuteTime": {
     "end_time": "2023-10-04T23:32:51.862156800Z",
     "start_time": "2023-10-04T23:32:51.462144800Z"
    }
   },
   "id": "5e900e59a642cf9d",
   "outputs": []
  },
  {
   "cell_type": "code",
   "execution_count": 6,
   "source": [
    "first_children = main_list[0]\n",
    "first_children_button = first_children.find_element(By.XPATH, \".//button[@data-click-id='share']\")\n",
    "first_children_button.click()\n",
    "\n",
    "\n",
    "\n",
    "sub_buttons_xpath = \".//button\"\n",
    "sub_buttons = rs.driver.find_elements(By.XPATH, sub_buttons_xpath)\n",
    "menuitem_buttons = [button for button in sub_buttons if button.get_attribute('role') == 'menuitem']\n",
    "# first_menuitem_button = menuitem_buttons[0]\n",
    "# first_menuitem_button.click()\n",
    "# \n",
    "# time.sleep(1)\n",
    "# \n",
    "# links.append(pyperclip.paste())"
   ],
   "metadata": {
    "collapsed": false,
    "ExecuteTime": {
     "end_time": "2023-10-04T23:18:07.028068200Z",
     "start_time": "2023-10-04T23:18:04.346735800Z"
    }
   },
   "id": "c7e512f0b3bdb4d7",
   "outputs": []
  },
  {
   "cell_type": "code",
   "execution_count": 5,
   "source": [
    "second_children = main_list[1]\n",
    "second_children_button = second_children.find_element(By.XPATH, \".//button[@data-click-id='share']\")\n",
    "second_children_button.click()\n",
    "\n",
    "sub_buttons_xpath = \".//button\"\n",
    "sub_buttons = rs.driver.find_elements(By.XPATH, sub_buttons_xpath)\n",
    "menuitem_buttons = [button for button in sub_buttons if button.get_attribute('role') == 'menuitem']\n",
    "first_menuitem_button = menuitem_buttons[0]\n",
    "first_menuitem_button.click()\n",
    "\n",
    "time.sleep(1)\n",
    "links.append(pyperclip.paste())"
   ],
   "metadata": {
    "collapsed": false,
    "ExecuteTime": {
     "end_time": "2023-10-04T23:09:42.283956Z",
     "start_time": "2023-10-04T23:09:38.119389100Z"
    }
   },
   "id": "286e7eb705bd4a1d",
   "outputs": []
  },
  {
   "cell_type": "code",
   "execution_count": 24,
   "source": [
    "parent_element = first_children_button.find_element(By.XPATH, \"./..\")\n",
    "\n",
    "sub_buttons_xpath = \".//button\"\n",
    "sub_buttons = rs.driver.find_elements(By.XPATH, sub_buttons_xpath)\n",
    "\n",
    "# Filter the list to keep only the buttons with role='menuitem'\n",
    "menuitem_buttons = [button for button in sub_buttons if button.get_attribute('role') == 'menuitem']\n",
    "\n",
    "# Check if menuitem_buttons list is not empty and interact with the first button\n",
    "if menuitem_buttons:\n",
    "    first_menuitem_button = menuitem_buttons[0]\n",
    "    first_menuitem_button.click()\n",
    "else:\n",
    "    print(\"No buttons with role='menuitem' found\")"
   ],
   "metadata": {
    "collapsed": false,
    "ExecuteTime": {
     "end_time": "2023-10-04T21:43:28.331404900Z",
     "start_time": "2023-10-04T21:43:18.800518800Z"
    }
   },
   "id": "2ea4995ca06b2789",
   "outputs": []
  },
  {
   "cell_type": "code",
   "execution_count": 4,
   "source": [
    "wes = WebElementSearcher(big_window_children_elements)\n",
    "wes.find_text_inputs()"
   ],
   "metadata": {
    "collapsed": false,
    "ExecuteTime": {
     "end_time": "2023-09-19T23:52:51.884632300Z",
     "start_time": "2023-09-19T23:31:07.815526300Z"
    }
   },
   "id": "9e70126ec2f6139b",
   "outputs": []
  },
  {
   "cell_type": "code",
   "execution_count": 5,
   "source": [
    "login_input = wes.element_list[0]"
   ],
   "metadata": {
    "collapsed": false,
    "ExecuteTime": {
     "end_time": "2023-09-20T00:09:50.252752200Z",
     "start_time": "2023-09-20T00:09:50.248724400Z"
    }
   },
   "id": "75fd65b529be9c71",
   "outputs": []
  },
  {
   "cell_type": "code",
   "execution_count": 6,
   "source": [
    "login_input_xpath = login_input.get_attribute('xpath')"
   ],
   "metadata": {
    "collapsed": false,
    "ExecuteTime": {
     "end_time": "2023-09-20T00:09:50.865655900Z",
     "start_time": "2023-09-20T00:09:50.835655Z"
    }
   },
   "id": "902784296cadea0e",
   "outputs": []
  },
  {
   "cell_type": "code",
   "execution_count": 16,
   "source": [
    "def extract_unique_identifiers(driver, elements):\n",
    "    unique_identifiers = []\n",
    "    for element in elements:\n",
    "        # Try to get a stable XPath for the element\n",
    "        xpath = driver.execute_script(\n",
    "            \"\"\"\n",
    "            function getXPath(element) {\n",
    "                if (element.id !== '') {\n",
    "                    return '//*[@id=\"' + element.id + '\"]';\n",
    "                }\n",
    "                if (element === document.body) {\n",
    "                    return element.tagName.toLowerCase();\n",
    "                }\n",
    "                var ix = 0;\n",
    "                var siblings = element.parentNode.childNodes;\n",
    "                for (var i = 0; i < siblings.length; i++) {\n",
    "                    var sibling = siblings[i];\n",
    "                    if (sibling === element) {\n",
    "                        return getXPath(element.parentNode) + '/' + element.tagName.toLowerCase() + '[' + (ix + 1) + ']';\n",
    "                    }\n",
    "                    if (sibling.nodeType === 1 && sibling.tagName === element.tagName) {\n",
    "                        ix++;\n",
    "                    }\n",
    "                }\n",
    "            }\n",
    "            return getXPath(arguments[0]);\n",
    "            \"\"\", element)\n",
    "        if xpath:\n",
    "            unique_identifiers.append((\"xpath\", xpath))\n",
    "    return unique_identifiers"
   ],
   "metadata": {
    "collapsed": false,
    "ExecuteTime": {
     "end_time": "2023-09-20T00:16:39.873789200Z",
     "start_time": "2023-09-20T00:16:39.858597800Z"
    }
   },
   "id": "ad37f62e5f4aadbf",
   "outputs": []
  },
  {
   "cell_type": "code",
   "execution_count": 22,
   "source": [
    "extract_unique_identifiers(rs.driver, [wes.element_list[1]])"
   ],
   "metadata": {
    "collapsed": false,
    "ExecuteTime": {
     "end_time": "2023-09-20T00:18:17.732020300Z",
     "start_time": "2023-09-20T00:18:17.699021600Z"
    }
   },
   "id": "98b9a86fd625d692",
   "outputs": []
  },
  {
   "cell_type": "code",
   "execution_count": 23,
   "source": [
    "test_xpath = '//*[@id=\"left-sidebar-container\"]'\n",
    "test_element = rs.driver.find_element(By.XPATH, test_xpath)"
   ],
   "metadata": {
    "collapsed": false,
    "ExecuteTime": {
     "end_time": "2023-09-20T00:18:39.825566100Z",
     "start_time": "2023-09-20T00:18:39.809561700Z"
    }
   },
   "id": "8ac5de2bce9e3e5",
   "outputs": []
  },
  {
   "cell_type": "code",
   "execution_count": 24,
   "source": [
    "wes.element_list"
   ],
   "metadata": {
    "collapsed": false,
    "ExecuteTime": {
     "end_time": "2023-09-20T00:18:57.459342900Z",
     "start_time": "2023-09-20T00:18:57.412345100Z"
    }
   },
   "id": "69d1010f4e7bcc99",
   "outputs": []
  },
  {
   "cell_type": "code",
   "execution_count": null,
   "source": [],
   "metadata": {
    "collapsed": false
   },
   "id": "cbd1832b67af82be",
   "outputs": []
  }
 ],
 "metadata": {
  "kernelspec": {
   "display_name": "Python 3",
   "language": "python",
   "name": "python3"
  },
  "language_info": {
   "codemirror_mode": {
    "name": "ipython",
    "version": 2
   },
   "file_extension": ".py",
   "mimetype": "text/x-python",
   "name": "python",
   "nbconvert_exporter": "python",
   "pygments_lexer": "ipython2",
   "version": "2.7.6"
  }
 },
 "nbformat": 4,
 "nbformat_minor": 5
}
