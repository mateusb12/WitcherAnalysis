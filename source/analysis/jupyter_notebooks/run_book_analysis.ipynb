{
 "cells": [
  {
   "cell_type": "code",
   "id": "initial_id",
   "metadata": {
    "collapsed": true,
    "ExecuteTime": {
     "end_time": "2024-04-29T19:57:35.639459Z",
     "start_time": "2024-04-29T19:57:32.857428Z"
    }
   },
   "source": [
    "from source.nlp_processing.model_loader import load_nlp_model\n",
    "\n",
    "model = load_nlp_model()"
   ],
   "outputs": [
    {
     "name": "stdout",
     "output_type": "stream",
     "text": [
      "NLP model loaded\n"
     ]
    }
   ],
   "execution_count": 1
  },
  {
   "metadata": {
    "ExecuteTime": {
     "end_time": "2024-04-29T19:58:11.389749Z",
     "start_time": "2024-04-29T19:57:51.257408Z"
    }
   },
   "cell_type": "code",
   "source": [
    "from source.nlp_processing.entity_extractor import EntityExtractor\n",
    "\n",
    "book_analyser = EntityExtractor(nlp_model=model, series_tag=\"harry_potter\")\n",
    "book_analyser.select_book(1)"
   ],
   "id": "227f1d1d635848fa",
   "outputs": [
    {
     "name": "stdout",
     "output_type": "stream",
     "text": [
      "Selected book → 2 The Chamber of Secrets.txt\n"
     ]
    }
   ],
   "execution_count": 2
  },
  {
   "metadata": {
    "ExecuteTime": {
     "end_time": "2024-04-29T19:58:38.763099Z",
     "start_time": "2024-04-29T19:58:38.661371Z"
    }
   },
   "cell_type": "code",
   "source": "book_analyser.print_book()",
   "id": "4b13ecf8f3fbefe6",
   "outputs": [
    {
     "data": {
      "text/plain": [
       "<IPython.core.display.HTML object>"
      ],
      "text/html": [
       "<span class=\"tex2jax_ignore\"><div class=\"entities\" style=\"line-height: 2.5; direction: ltr\">J .</br>K .</br>R O W L !</br>N G  HARRY  POTTER  /  </br>THE WORST BIRTHDAY  Not for the <mark class=\"entity\" style=\"background: #e4e7d2; padding: 0.45em 0.6em; margin: 0 0.25em; line-height: 1; border-radius: 0.35em;\">first<span style=\"font-size: 0.8em; font-weight: bold; line-height: 1; border-radius: 0.35em; vertical-align: middle; margin-left: 0.5rem\">ORDINAL</span></mark> time, an argument had broken out  over breakfast at <mark class=\"entity\" style=\"background: #e4e7d2; padding: 0.45em 0.6em; margin: 0 0.25em; line-height: 1; border-radius: 0.35em;\">number four<span style=\"font-size: 0.8em; font-weight: bold; line-height: 1; border-radius: 0.35em; vertical-align: middle; margin-left: 0.5rem\">CARDINAL</span></mark>, <mark class=\"entity\" style=\"background: #9cc9cc; padding: 0.45em 0.6em; margin: 0 0.25em; line-height: 1; border-radius: 0.35em;\">Privet Drive<span style=\"font-size: 0.8em; font-weight: bold; line-height: 1; border-radius: 0.35em; vertical-align: middle; margin-left: 0.5rem\">FAC</span></mark>.</br>Mr.  <mark class=\"entity\" style=\"background: #aa9cfc; padding: 0.45em 0.6em; margin: 0 0.25em; line-height: 1; border-radius: 0.35em;\">Vernon Dursley<span style=\"font-size: 0.8em; font-weight: bold; line-height: 1; border-radius: 0.35em; vertical-align: middle; margin-left: 0.5rem\">PERSON</span></mark> had been woken in <mark class=\"entity\" style=\"background: #bfe1d9; padding: 0.45em 0.6em; margin: 0 0.25em; line-height: 1; border-radius: 0.35em;\">the early hours<span style=\"font-size: 0.8em; font-weight: bold; line-height: 1; border-radius: 0.35em; vertical-align: middle; margin-left: 0.5rem\">TIME</span></mark> of  the morning by a loud, hooting noise from his nephew  <mark class=\"entity\" style=\"background: #7aecec; padding: 0.45em 0.6em; margin: 0 0.25em; line-height: 1; border-radius: 0.35em;\">Harry<span style=\"font-size: 0.8em; font-weight: bold; line-height: 1; border-radius: 0.35em; vertical-align: middle; margin-left: 0.5rem\">ORG</span></mark>’s room.  </br>“<mark class=\"entity\" style=\"background: #e4e7d2; padding: 0.45em 0.6em; margin: 0 0.25em; line-height: 1; border-radius: 0.35em;\">Third<span style=\"font-size: 0.8em; font-weight: bold; line-height: 1; border-radius: 0.35em; vertical-align: middle; margin-left: 0.5rem\">ORDINAL</span></mark> time <mark class=\"entity\" style=\"background: #bfe1d9; padding: 0.45em 0.6em; margin: 0 0.25em; line-height: 1; border-radius: 0.35em;\">this week<span style=\"font-size: 0.8em; font-weight: bold; line-height: 1; border-radius: 0.35em; vertical-align: middle; margin-left: 0.5rem\">DATE</span></mark>!”</br>he roared across the table.</br>“If  you can’t control that </div></span>"
      ]
     },
     "metadata": {},
     "output_type": "display_data"
    }
   ],
   "execution_count": 3
  },
  {
   "metadata": {
    "ExecuteTime": {
     "end_time": "2024-04-21T15:34:50.725770Z",
     "start_time": "2024-04-21T15:34:50.567894Z"
    }
   },
   "cell_type": "code",
   "source": "ba.get_book_entity_df()",
   "id": "86871b635ef444fb",
   "outputs": [
    {
     "name": "stdout",
     "output_type": "stream",
     "text": [
      "File [1 The Last Wish.csv] already exists\n"
     ]
    },
    {
     "data": {
      "text/plain": [
       "                                               sentence  \\\n",
       "0           \\n\\n'Come on, Geralt, it'll be supper soon.   \n",
       "1     Damned mother's-!' \\n\\n'Careful, Velerad,' sna...   \n",
       "2     'Say what you want about the striga but do not...   \n",
       "3              Segelin and Ostrit looked at each other.   \n",
       "4     'At the very beginning, seven years ago, she t...   \n",
       "...                                                 ...   \n",
       "1870                              She turned to Geralt.   \n",
       "1871          Iola-' \\n\\n'Don't say anything, Nenneke.'   \n",
       "1872                  And not for the first time.' \\n\\n   \n",
       "1873                                       See to Iola.   \n",
       "1874                                 So long, Nenneke.'   \n",
       "\n",
       "                        entities  \n",
       "0                     ['Geralt']  \n",
       "1          ['Velerad', 'Ostrit']  \n",
       "2                       ['Adda']  \n",
       "3          ['Segelin', 'Ostrit']  \n",
       "4     ['seven years ago', 'two']  \n",
       "...                          ...  \n",
       "1870                  ['Geralt']  \n",
       "1871                 ['Nenneke']  \n",
       "1872                   ['first']  \n",
       "1873                    ['Iola']  \n",
       "1874                 ['Nenneke']  \n",
       "\n",
       "[1875 rows x 2 columns]"
      ],
      "text/html": [
       "<div>\n",
       "<style scoped>\n",
       "    .dataframe tbody tr th:only-of-type {\n",
       "        vertical-align: middle;\n",
       "    }\n",
       "\n",
       "    .dataframe tbody tr th {\n",
       "        vertical-align: top;\n",
       "    }\n",
       "\n",
       "    .dataframe thead th {\n",
       "        text-align: right;\n",
       "    }\n",
       "</style>\n",
       "<table border=\"1\" class=\"dataframe\">\n",
       "  <thead>\n",
       "    <tr style=\"text-align: right;\">\n",
       "      <th></th>\n",
       "      <th>sentence</th>\n",
       "      <th>entities</th>\n",
       "    </tr>\n",
       "  </thead>\n",
       "  <tbody>\n",
       "    <tr>\n",
       "      <th>0</th>\n",
       "      <td>\\n\\n'Come on, Geralt, it'll be supper soon.</td>\n",
       "      <td>['Geralt']</td>\n",
       "    </tr>\n",
       "    <tr>\n",
       "      <th>1</th>\n",
       "      <td>Damned mother's-!' \\n\\n'Careful, Velerad,' sna...</td>\n",
       "      <td>['Velerad', 'Ostrit']</td>\n",
       "    </tr>\n",
       "    <tr>\n",
       "      <th>2</th>\n",
       "      <td>'Say what you want about the striga but do not...</td>\n",
       "      <td>['Adda']</td>\n",
       "    </tr>\n",
       "    <tr>\n",
       "      <th>3</th>\n",
       "      <td>Segelin and Ostrit looked at each other.</td>\n",
       "      <td>['Segelin', 'Ostrit']</td>\n",
       "    </tr>\n",
       "    <tr>\n",
       "      <th>4</th>\n",
       "      <td>'At the very beginning, seven years ago, she t...</td>\n",
       "      <td>['seven years ago', 'two']</td>\n",
       "    </tr>\n",
       "    <tr>\n",
       "      <th>...</th>\n",
       "      <td>...</td>\n",
       "      <td>...</td>\n",
       "    </tr>\n",
       "    <tr>\n",
       "      <th>1870</th>\n",
       "      <td>She turned to Geralt.</td>\n",
       "      <td>['Geralt']</td>\n",
       "    </tr>\n",
       "    <tr>\n",
       "      <th>1871</th>\n",
       "      <td>Iola-' \\n\\n'Don't say anything, Nenneke.'</td>\n",
       "      <td>['Nenneke']</td>\n",
       "    </tr>\n",
       "    <tr>\n",
       "      <th>1872</th>\n",
       "      <td>And not for the first time.' \\n\\n</td>\n",
       "      <td>['first']</td>\n",
       "    </tr>\n",
       "    <tr>\n",
       "      <th>1873</th>\n",
       "      <td>See to Iola.</td>\n",
       "      <td>['Iola']</td>\n",
       "    </tr>\n",
       "    <tr>\n",
       "      <th>1874</th>\n",
       "      <td>So long, Nenneke.'</td>\n",
       "      <td>['Nenneke']</td>\n",
       "    </tr>\n",
       "  </tbody>\n",
       "</table>\n",
       "<p>1875 rows × 2 columns</p>\n",
       "</div>"
      ]
     },
     "execution_count": 5,
     "metadata": {},
     "output_type": "execute_result"
    }
   ],
   "execution_count": 5
  },
  {
   "metadata": {},
   "cell_type": "code",
   "outputs": [],
   "execution_count": null,
   "source": "",
   "id": "57f2b537956f13e3"
  }
 ],
 "metadata": {
  "kernelspec": {
   "display_name": "Python 3",
   "language": "python",
   "name": "python3"
  },
  "language_info": {
   "codemirror_mode": {
    "name": "ipython",
    "version": 2
   },
   "file_extension": ".py",
   "mimetype": "text/x-python",
   "name": "python",
   "nbconvert_exporter": "python",
   "pygments_lexer": "ipython2",
   "version": "2.7.6"
  }
 },
 "nbformat": 4,
 "nbformat_minor": 5
}
