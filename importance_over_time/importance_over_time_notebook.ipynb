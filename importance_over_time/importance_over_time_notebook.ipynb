{
 "cells": [
  {
   "cell_type": "code",
   "execution_count": 2,
   "metadata": {
    "collapsed": true
   },
   "outputs": [
    {
     "ename": "IndexError",
     "evalue": "list index out of range",
     "output_type": "error",
     "traceback": [
      "\u001B[1;31m---------------------------------------------------------------------------\u001B[0m",
      "\u001B[1;31mIndexError\u001B[0m                                Traceback (most recent call last)",
      "Input \u001B[1;32mIn [2]\u001B[0m, in \u001B[0;36m<cell line: 4>\u001B[1;34m()\u001B[0m\n\u001B[0;32m      1\u001B[0m \u001B[38;5;28;01mfrom\u001B[39;00m \u001B[38;5;21;01mcharacter_importance_calculator\u001B[39;00m \u001B[38;5;28;01mimport\u001B[39;00m get_importance_example, plot_importance, \\\n\u001B[0;32m      2\u001B[0m     get_importance_df, plot_series_importance\n\u001B[1;32m----> 4\u001B[0m \u001B[43mplot_series_importance\u001B[49m\u001B[43m(\u001B[49m\u001B[38;5;124;43m\"\u001B[39;49m\u001B[38;5;124;43mharry_potter\u001B[39;49m\u001B[38;5;124;43m\"\u001B[39;49m\u001B[43m)\u001B[49m\n",
      "File \u001B[1;32mE:\\Python\\Witcher_analysis\\importance_over_time\\character_importance_calculator.py:120\u001B[0m, in \u001B[0;36mplot_series_importance\u001B[1;34m(series_name)\u001B[0m\n\u001B[0;32m    118\u001B[0m characters \u001B[38;5;241m=\u001B[39m get_importance_example(series_name)\n\u001B[0;32m    119\u001B[0m cio \u001B[38;5;241m=\u001B[39m CharacterImportanceOverTime(series_name)\n\u001B[1;32m--> 120\u001B[0m \u001B[43mcio\u001B[49m\u001B[38;5;241;43m.\u001B[39;49m\u001B[43mrun\u001B[49m\u001B[43m(\u001B[49m\u001B[43mamount_of_books\u001B[49m\u001B[38;5;241;43m=\u001B[39;49m\u001B[38;5;241;43m3\u001B[39;49m\u001B[43m)\u001B[49m\n\u001B[0;32m    121\u001B[0m importance_df \u001B[38;5;241m=\u001B[39m get_importance_df(series\u001B[38;5;241m=\u001B[39mseries_name, char_list\u001B[38;5;241m=\u001B[39mcharacters)\n\u001B[0;32m    122\u001B[0m plot_importance(importance_df)\n",
      "File \u001B[1;32mE:\\Python\\Witcher_analysis\\importance_over_time\\character_importance_calculator.py:30\u001B[0m, in \u001B[0;36mCharacterImportanceOverTime.run\u001B[1;34m(self, amount_of_books)\u001B[0m\n\u001B[0;32m     28\u001B[0m \u001B[38;5;28;01mif\u001B[39;00m \u001B[38;5;129;01mnot\u001B[39;00m existing_folder:\n\u001B[0;32m     29\u001B[0m     \u001B[38;5;28mself\u001B[39m\u001B[38;5;241m.\u001B[39m__create_importance_folder()\n\u001B[1;32m---> 30\u001B[0m \u001B[38;5;28;43mself\u001B[39;49m\u001B[38;5;241;43m.\u001B[39;49m\u001B[43m__create_importance_dataframes\u001B[49m\u001B[43m(\u001B[49m\u001B[43m)\u001B[49m\n",
      "File \u001B[1;32mE:\\Python\\Witcher_analysis\\importance_over_time\\character_importance_calculator.py:50\u001B[0m, in \u001B[0;36mCharacterImportanceOverTime.__create_importance_dataframes\u001B[1;34m(self)\u001B[0m\n\u001B[0;32m     48\u001B[0m \u001B[38;5;28;01mdef\u001B[39;00m \u001B[38;5;21m__create_importance_dataframes\u001B[39m(\u001B[38;5;28mself\u001B[39m):\n\u001B[0;32m     49\u001B[0m     existing_csv_files \u001B[38;5;241m=\u001B[39m \u001B[38;5;28mself\u001B[39m\u001B[38;5;241m.\u001B[39m__get_existing_csv_files()\n\u001B[1;32m---> 50\u001B[0m     missing_books \u001B[38;5;241m=\u001B[39m \u001B[38;5;28;43mself\u001B[39;49m\u001B[38;5;241;43m.\u001B[39;49m\u001B[43m__get_missing_csv_files\u001B[49m\u001B[43m(\u001B[49m\u001B[43mexisting_csv_files\u001B[49m\u001B[43m)\u001B[49m\n\u001B[0;32m     51\u001B[0m     \u001B[38;5;28;01mif\u001B[39;00m \u001B[38;5;129;01mnot\u001B[39;00m missing_books:\n\u001B[0;32m     52\u001B[0m         \u001B[38;5;28;01mreturn\u001B[39;00m\n",
      "File \u001B[1;32mE:\\Python\\Witcher_analysis\\importance_over_time\\character_importance_calculator.py:45\u001B[0m, in \u001B[0;36mCharacterImportanceOverTime.__get_missing_csv_files\u001B[1;34m(self, existing_csv_files)\u001B[0m\n\u001B[0;32m     44\u001B[0m \u001B[38;5;28;01mdef\u001B[39;00m \u001B[38;5;21m__get_missing_csv_files\u001B[39m(\u001B[38;5;28mself\u001B[39m, existing_csv_files: \u001B[38;5;28mlist\u001B[39m[Path]) \u001B[38;5;241m-\u001B[39m\u001B[38;5;241m>\u001B[39m \u001B[38;5;28mlist\u001B[39m[\u001B[38;5;28mint\u001B[39m]:\n\u001B[1;32m---> 45\u001B[0m     max_book_index \u001B[38;5;241m=\u001B[39m \u001B[38;5;28mint\u001B[39m(\u001B[43mexisting_csv_files\u001B[49m\u001B[43m[\u001B[49m\u001B[38;5;241;43m-\u001B[39;49m\u001B[38;5;241;43m1\u001B[39;49m\u001B[43m]\u001B[49m\u001B[38;5;241m.\u001B[39mname\u001B[38;5;241m.\u001B[39msplit(\u001B[38;5;124m\"\u001B[39m\u001B[38;5;124m \u001B[39m\u001B[38;5;124m\"\u001B[39m)[\u001B[38;5;241m0\u001B[39m])\n\u001B[0;32m     46\u001B[0m     \u001B[38;5;28;01mreturn\u001B[39;00m \u001B[38;5;28mlist\u001B[39m(\u001B[38;5;28mrange\u001B[39m(max_book_index \u001B[38;5;241m+\u001B[39m \u001B[38;5;241m1\u001B[39m, \u001B[38;5;28mself\u001B[39m\u001B[38;5;241m.\u001B[39mamount_of_books \u001B[38;5;241m+\u001B[39m \u001B[38;5;241m1\u001B[39m))\n",
      "\u001B[1;31mIndexError\u001B[0m: list index out of range"
     ]
    }
   ],
   "source": [
    "from character_importance_calculator import get_importance_example, plot_importance, \\\n",
    "    get_importance_df, plot_series_importance\n",
    "\n",
    "plot_series_importance(\"harry_potter\")"
   ]
  },
  {
   "cell_type": "code",
   "execution_count": 1,
   "outputs": [],
   "source": [
    "from fix_non_reachable_path import fix_non_reachable_path\n",
    "\n",
    "fix_non_reachable_path()"
   ],
   "metadata": {
    "collapsed": false
   }
  },
  {
   "cell_type": "code",
   "execution_count": null,
   "outputs": [],
   "source": [],
   "metadata": {
    "collapsed": false
   }
  }
 ],
 "metadata": {
  "kernelspec": {
   "display_name": "Python 3",
   "language": "python",
   "name": "python3"
  },
  "language_info": {
   "codemirror_mode": {
    "name": "ipython",
    "version": 2
   },
   "file_extension": ".py",
   "mimetype": "text/x-python",
   "name": "python",
   "nbconvert_exporter": "python",
   "pygments_lexer": "ipython2",
   "version": "2.7.6"
  }
 },
 "nbformat": 4,
 "nbformat_minor": 0
}
